{
 "cells": [
  {
   "cell_type": "code",
   "execution_count": 1,
   "metadata": {},
   "outputs": [
    {
     "name": "stdout",
     "output_type": "stream",
     "text": [
      "{'name': 'harshit', 'age': 24}\n"
     ]
    },
    {
     "data": {
      "text/plain": [
       "{}"
      ]
     },
     "execution_count": 1,
     "metadata": {},
     "output_type": "execute_result"
    }
   ],
   "source": [
    "# dictionary - unorder collection of data with key value pair\n",
    "# there is no indexing in dictionary\n",
    "d = {'name':'harshit','age':24}\n",
    "    # key    value              \n",
    "d1 = dict(name = 'harshit', age = 24)\n",
    "print(d1)\n",
    "\n",
    "empty_dict = { }\n",
    "empty_dict"
   ]
  },
  {
   "cell_type": "code",
   "execution_count": 2,
   "metadata": {},
   "outputs": [],
   "source": [
    "# in keyword and iterations in dictionary \n",
    "\n",
    "user_info = {\n",
    "    'name':'Harshit',\n",
    "    'age': 24,\n",
    "    'fav_movies':['coco','kimi no na wa'],\n",
    "    'fav_tunes': ['awaking','fairy tale']\n",
    "}"
   ]
  },
  {
   "cell_type": "code",
   "execution_count": 3,
   "metadata": {},
   "outputs": [
    {
     "data": {
      "text/plain": [
       "{'name': 'Harshit',\n",
       " 'age': 24,\n",
       " 'fav_movies': ['coco', 'kimi no na wa'],\n",
       " 'fav_tunes': ['awaking', 'fairy tale'],\n",
       " 'fav_songs': ['song1', 'song2']}"
      ]
     },
     "execution_count": 3,
     "metadata": {},
     "output_type": "execute_result"
    }
   ],
   "source": [
    "# add and delet data\n",
    "user_info = {\n",
    "    'name':'Harshit',\n",
    "    'age': 24,\n",
    "    'fav_movies':['coco','kimi no na wa'],\n",
    "    'fav_tunes': ['awaking','fairy tale']\n",
    "}\n",
    "\n",
    "# how to add data\n",
    "user_info['fav_songs'] = ['song1', 'song2']\n",
    "user_info"
   ]
  },
  {
   "cell_type": "code",
   "execution_count": 4,
   "metadata": {},
   "outputs": [
    {
     "name": "stdout",
     "output_type": "stream",
     "text": [
      "popped item is ['awaking', 'fairy tale']\n"
     ]
    }
   ],
   "source": [
    "# pop method\n",
    "popped_item = user_info.pop('fav_tunes')\n",
    "print(f'popped item is {popped_item}')"
   ]
  },
  {
   "cell_type": "code",
   "execution_count": 5,
   "metadata": {},
   "outputs": [
    {
     "data": {
      "text/plain": [
       "{'name': 'Harshit',\n",
       " 'age': 24,\n",
       " 'fav_movies': ['coco', 'kimi no na wa'],\n",
       " 'fav_songs': ['song1', 'song2']}"
      ]
     },
     "execution_count": 5,
     "metadata": {},
     "output_type": "execute_result"
    }
   ],
   "source": [
    "user_info"
   ]
  },
  {
   "cell_type": "code",
   "execution_count": 6,
   "metadata": {},
   "outputs": [
    {
     "data": {
      "text/plain": [
       "list"
      ]
     },
     "execution_count": 6,
     "metadata": {},
     "output_type": "execute_result"
    }
   ],
   "source": [
    "type(popped_item)"
   ]
  },
  {
   "cell_type": "code",
   "execution_count": 7,
   "metadata": {},
   "outputs": [
    {
     "name": "stdout",
     "output_type": "stream",
     "text": [
      "{'name': 'Harshit', 'age': 24, 'fav_movies': ['coco', 'kimi no na wa'], 'fav_tunes': ['awaking', 'fairy tale'], 'state': 'Haryana', 'hobies': ['coding', 'reading', 'guitar']}\n"
     ]
    }
   ],
   "source": [
    "# update method\n",
    "user_info = {\n",
    "    'name':'Harshit',\n",
    "    'age': 24,\n",
    "    'fav_movies':['coco','kimi no na wa'],\n",
    "    'fav_tunes': ['awaking','fairy tale']\n",
    "}\n",
    "\n",
    "more_info = {'state':'Haryana','hobies':['coding','reading','guitar']}\n",
    "\n",
    "user_info.update(more_info)\n",
    "print(user_info)"
   ]
  },
  {
   "cell_type": "code",
   "execution_count": 8,
   "metadata": {},
   "outputs": [
    {
     "name": "stdout",
     "output_type": "stream",
     "text": [
      "{'name': 'unknown', 'age': 'unknown', 'height': 'unknown'}\n"
     ]
    }
   ],
   "source": [
    "# fromkeys to built different keys have same value\n",
    "#d = {'name':'unknown','age':'unknown'}\n",
    "d = dict.fromkeys(['name','age','height'],'unknown')\n",
    "print(d)"
   ]
  },
  {
   "cell_type": "code",
   "execution_count": 9,
   "metadata": {},
   "outputs": [
    {
     "name": "stdout",
     "output_type": "stream",
     "text": [
      "unknown\n",
      "None\n"
     ]
    }
   ],
   "source": [
    "# get method(useful) to avoid errors \n",
    "d = {'name': 'unknown','age':'unknown' }\n",
    "print(d.get('name')) # in place of name if I write names  instide of error it will provide None\n",
    "print(d.get('names')) # better to excess keys"
   ]
  },
  {
   "cell_type": "code",
   "execution_count": 10,
   "metadata": {},
   "outputs": [
    {
     "name": "stdout",
     "output_type": "stream",
     "text": [
      "present\n"
     ]
    }
   ],
   "source": [
    "if 'name' in d :\n",
    "    print('present')\n",
    "else:\n",
    "    print('not present')"
   ]
  },
  {
   "cell_type": "code",
   "execution_count": 11,
   "metadata": {},
   "outputs": [
    {
     "name": "stdout",
     "output_type": "stream",
     "text": [
      "not present\n"
     ]
    }
   ],
   "source": [
    "if d.get('names'):\n",
    "    print('present')\n",
    "else:\n",
    "    print('not present')"
   ]
  },
  {
   "cell_type": "code",
   "execution_count": 12,
   "metadata": {},
   "outputs": [
    {
     "name": "stdout",
     "output_type": "stream",
     "text": [
      "{}\n"
     ]
    }
   ],
   "source": [
    "# clear method\n",
    "d.clear()\n",
    "print(d)"
   ]
  },
  {
   "cell_type": "code",
   "execution_count": 13,
   "metadata": {},
   "outputs": [
    {
     "data": {
      "text/plain": [
       "{}"
      ]
     },
     "execution_count": 13,
     "metadata": {},
     "output_type": "execute_result"
    }
   ],
   "source": [
    "# copy method\n",
    "d1 = d.copy() # here d1 & d are different dictionary but d1 = d are same\n",
    "d1"
   ]
  },
  {
   "cell_type": "code",
   "execution_count": 14,
   "metadata": {},
   "outputs": [
    {
     "name": "stdout",
     "output_type": "stream",
     "text": [
      "present\n"
     ]
    }
   ],
   "source": [
    "# check if key exit in dictionary \n",
    "if 'name' in user_info :\n",
    "    print('present')"
   ]
  },
  {
   "cell_type": "code",
   "execution_count": 15,
   "metadata": {},
   "outputs": [
    {
     "name": "stdout",
     "output_type": "stream",
     "text": [
      "not present\n"
     ]
    }
   ],
   "source": [
    "# check if valu exits in dictionary \n",
    "if 'names' in user_info:\n",
    "    print('present')\n",
    "else:\n",
    "    print('not present')"
   ]
  },
  {
   "cell_type": "code",
   "execution_count": 16,
   "metadata": {},
   "outputs": [
    {
     "name": "stdout",
     "output_type": "stream",
     "text": [
      "not present\n"
     ]
    }
   ],
   "source": [
    "# check if value exits in dictionary # values method\n",
    "if 'unknown' in d.values():\n",
    "    print('present')\n",
    "else:\n",
    "    print('not present')"
   ]
  },
  {
   "cell_type": "code",
   "execution_count": 17,
   "metadata": {},
   "outputs": [
    {
     "name": "stdout",
     "output_type": "stream",
     "text": [
      "present\n"
     ]
    }
   ],
   "source": [
    "if ['coco','kimi no na wa'] in user_info.values():\n",
    "    print('present')\n",
    "else:\n",
    "    print('not present')"
   ]
  },
  {
   "cell_type": "code",
   "execution_count": 18,
   "metadata": {},
   "outputs": [
    {
     "name": "stdout",
     "output_type": "stream",
     "text": [
      "name\n",
      "age\n",
      "fav_movies\n",
      "fav_tunes\n",
      "state\n",
      "hobies\n"
     ]
    }
   ],
   "source": [
    "# loops in dictionaries \n",
    "for i in user_info:\n",
    "    print(i)"
   ]
  },
  {
   "cell_type": "code",
   "execution_count": 19,
   "metadata": {},
   "outputs": [
    {
     "name": "stdout",
     "output_type": "stream",
     "text": [
      "Harshit\n",
      "24\n",
      "['coco', 'kimi no na wa']\n",
      "['awaking', 'fairy tale']\n",
      "Haryana\n",
      "['coding', 'reading', 'guitar']\n"
     ]
    }
   ],
   "source": [
    "for i in user_info.values():\n",
    "    print(i)"
   ]
  },
  {
   "cell_type": "code",
   "execution_count": 20,
   "metadata": {},
   "outputs": [
    {
     "name": "stdout",
     "output_type": "stream",
     "text": [
      "name\n",
      "age\n",
      "fav_movies\n",
      "fav_tunes\n",
      "state\n",
      "hobies\n"
     ]
    }
   ],
   "source": [
    "for i in user_info.keys():\n",
    "    print(i)"
   ]
  },
  {
   "cell_type": "code",
   "execution_count": 21,
   "metadata": {},
   "outputs": [
    {
     "name": "stdout",
     "output_type": "stream",
     "text": [
      "dict_values(['Harshit', 24, ['coco', 'kimi no na wa'], ['awaking', 'fairy tale'], 'Haryana', ['coding', 'reading', 'guitar']])\n"
     ]
    }
   ],
   "source": [
    "user_info_values = user_info.values()\n",
    "print(user_info_values)"
   ]
  },
  {
   "cell_type": "code",
   "execution_count": 22,
   "metadata": {},
   "outputs": [
    {
     "data": {
      "text/plain": [
       "dict_values"
      ]
     },
     "execution_count": 22,
     "metadata": {},
     "output_type": "execute_result"
    }
   ],
   "source": [
    "type(user_info_values)"
   ]
  },
  {
   "cell_type": "code",
   "execution_count": 23,
   "metadata": {},
   "outputs": [
    {
     "name": "stdout",
     "output_type": "stream",
     "text": [
      "dict_keys(['name', 'age', 'fav_movies', 'fav_tunes', 'state', 'hobies'])\n"
     ]
    }
   ],
   "source": [
    "# keys method\n",
    "user_info_keys = user_info.keys()\n",
    "print(user_info_keys)"
   ]
  },
  {
   "cell_type": "code",
   "execution_count": 24,
   "metadata": {},
   "outputs": [
    {
     "data": {
      "text/plain": [
       "dict_keys"
      ]
     },
     "execution_count": 24,
     "metadata": {},
     "output_type": "execute_result"
    }
   ],
   "source": [
    "type(user_info_keys)"
   ]
  },
  {
   "cell_type": "code",
   "execution_count": 25,
   "metadata": {},
   "outputs": [
    {
     "name": "stdout",
     "output_type": "stream",
     "text": [
      "dict_items([('name', 'Harshit'), ('age', 24), ('fav_movies', ['coco', 'kimi no na wa']), ('fav_tunes', ['awaking', 'fairy tale']), ('state', 'Haryana'), ('hobies', ['coding', 'reading', 'guitar'])])\n",
      "<class 'dict_items'>\n"
     ]
    }
   ],
   "source": [
    " # items method imp  to get key_value pair\n",
    "user_items = user_info.items()\n",
    "print(user_items)\n",
    "print(type(user_items))"
   ]
  },
  {
   "cell_type": "code",
   "execution_count": 26,
   "metadata": {},
   "outputs": [
    {
     "name": "stdout",
     "output_type": "stream",
     "text": [
      "key is name and value is Harshit\n",
      "key is age and value is 24\n",
      "key is fav_movies and value is ['coco', 'kimi no na wa']\n",
      "key is fav_tunes and value is ['awaking', 'fairy tale']\n",
      "key is state and value is Haryana\n",
      "key is hobies and value is ['coding', 'reading', 'guitar']\n"
     ]
    }
   ],
   "source": [
    " for i,j in user_info.items():\n",
    "        print(f'key is {i} and value is {j}')  "
   ]
  },
  {
   "cell_type": "code",
   "execution_count": 27,
   "metadata": {},
   "outputs": [
    {
     "name": "stdout",
     "output_type": "stream",
     "text": [
      "None\n"
     ]
    }
   ],
   "source": [
    "#more about get, two same keys in dictionaries\n",
    "user = {'name':'harshit', 'age':24}\n",
    "print(user.get('names'))"
   ]
  },
  {
   "cell_type": "code",
   "execution_count": 28,
   "metadata": {},
   "outputs": [
    {
     "name": "stdout",
     "output_type": "stream",
     "text": [
      "not found\n"
     ]
    }
   ],
   "source": [
    "user = {'name':'harshit', 'age':24}\n",
    "print(user.get('names','not found'))"
   ]
  },
  {
   "cell_type": "code",
   "execution_count": null,
   "metadata": {},
   "outputs": [],
   "source": [
    "user = {'name':'harshit', 'age':24, 'age':34} # if there are same keys then it concider next value\n",
    "print(user.get('age','not found'))"
   ]
  },
  {
   "cell_type": "code",
   "execution_count": 29,
   "metadata": {},
   "outputs": [
    {
     "data": {
      "text/plain": [
       "{1: 1, 2: 8, 3: 27, 4: 64, 5: 125, 6: 216, 7: 343, 8: 512, 9: 729, 10: 1000}"
      ]
     },
     "execution_count": 29,
     "metadata": {},
     "output_type": "execute_result"
    }
   ],
   "source": [
    "# cube finder \n",
    "def cube_finder(n):\n",
    "    cubes = {}\n",
    "    for i in range(1,n+1):\n",
    "        cubes[i] = i**3\n",
    "    return cubes\n",
    "cube_finder(10)"
   ]
  },
  {
   "cell_type": "code",
   "execution_count": 30,
   "metadata": {},
   "outputs": [
    {
     "name": "stdout",
     "output_type": "stream",
     "text": [
      "{'h': 2, 'a': 1, 'r': 1, 's': 1, 'i': 1, 't': 1}\n"
     ]
    }
   ],
   "source": [
    "# WORD COUNTER \n",
    "# harshit \n",
    "\n",
    "def word_counter(s):\n",
    "    count = {}\n",
    "    for char in s :\n",
    "        count[char] = s.count(char)\n",
    "    return count\n",
    "print(word_counter('harshit')) \n"
   ]
  },
  {
   "cell_type": "code",
   "execution_count": 31,
   "metadata": {},
   "outputs": [
    {
     "name": "stdout",
     "output_type": "stream",
     "text": [
      "Enter your name: abhi\n",
      "Enter your age: 25\n",
      "Your fav_movies saperated by comma: m1,m2\n",
      "your fav_songs saperated by comma: s1,s2\n",
      "name:abhi\n",
      "age:25\n",
      "fav_movies:['m1', 'm2']\n",
      "fav_songs:['s1', 's2']\n"
     ]
    }
   ],
   "source": [
    "user = {}\n",
    "\n",
    "name = input('Enter your name: ')\n",
    "age = input('Enter your age: ')\n",
    "fav_movies = input('Your fav_movies saperated by comma: ').split(',')\n",
    "fav_songs = input('your fav_songs saperated by comma: ').split(',')\n",
    "\n",
    "user['name'] = name \n",
    "user['age'] = age \n",
    "user['fav_movies'] = fav_movies\n",
    "user['fav_songs'] = fav_songs\n",
    "\n",
    "for key,value in user.items():\n",
    "    print(f'{key}:{value}')\n"
   ]
  },
  {
   "cell_type": "code",
   "execution_count": null,
   "metadata": {},
   "outputs": [],
   "source": []
  }
 ],
 "metadata": {
  "kernelspec": {
   "display_name": "Python 3 (ipykernel)",
   "language": "python",
   "name": "python3"
  },
  "language_info": {
   "codemirror_mode": {
    "name": "ipython",
    "version": 3
   },
   "file_extension": ".py",
   "mimetype": "text/x-python",
   "name": "python",
   "nbconvert_exporter": "python",
   "pygments_lexer": "ipython3",
   "version": "3.9.12"
  }
 },
 "nbformat": 4,
 "nbformat_minor": 4
}
