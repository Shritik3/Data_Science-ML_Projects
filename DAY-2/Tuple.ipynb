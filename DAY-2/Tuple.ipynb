{
 "cells": [
  {
   "cell_type": "code",
   "execution_count": null,
   "metadata": {},
   "outputs": [],
   "source": [
    "#Tuples data structure\n",
    "# tuples can store any data types\n",
    "# most important tuples are immutable, once the tuple is created you cant update \n",
    "# data inside tuples \n",
    "# tuple is used when we know that our data will never change.\n",
    "# tuples are faster than list\n",
    "\n",
    "example = ('one','two','three')\n",
    "# no append, no insert, no pop,no remove\n",
    "days = ('monday','tuesday','wednesday','thusday','friday','saturday','Sunday')\n",
    "\n",
    "# methods \n",
    "# count, index , len function , slicing"
   ]
  },
  {
   "cell_type": "code",
   "execution_count": 1,
   "metadata": {},
   "outputs": [
    {
     "name": "stdout",
     "output_type": "stream",
     "text": [
      "1\n",
      "2\n",
      "3\n",
      "4\n",
      "5\n",
      "6\n",
      "7\n"
     ]
    }
   ],
   "source": [
    "# looping in tupals \n",
    "mixed = (1,2,3,4,5,6,7)\n",
    "for i in mixed:\n",
    "    print(i)"
   ]
  },
  {
   "cell_type": "code",
   "execution_count": 2,
   "metadata": {},
   "outputs": [
    {
     "data": {
      "text/plain": [
       "tuple"
      ]
     },
     "execution_count": 2,
     "metadata": {},
     "output_type": "execute_result"
    }
   ],
   "source": [
    "# tuple with one element\n",
    "nums = (1,)\n",
    "words = ('words',)\n",
    "type(nums)\n",
    "type(words)"
   ]
  },
  {
   "cell_type": "code",
   "execution_count": 3,
   "metadata": {},
   "outputs": [
    {
     "data": {
      "text/plain": [
       "tuple"
      ]
     },
     "execution_count": 3,
     "metadata": {},
     "output_type": "execute_result"
    }
   ],
   "source": [
    "# tuples without paranthesis\n",
    "guitars = 'yamaha','taylor','thor'\n",
    "type(guitars)"
   ]
  },
  {
   "cell_type": "code",
   "execution_count": 5,
   "metadata": {},
   "outputs": [
    {
     "name": "stdout",
     "output_type": "stream",
     "text": [
      "Vander meel\n"
     ]
    }
   ],
   "source": [
    "# tuple unpacking\n",
    "guitarists = ('maneli Jamal','Vander meel','Andreew foye')\n",
    "guitarist1,guitarist2,guitarist3 = (guitarists) # if the tuple has 3 items then while unpacking it must be same \n",
    "print(guitarist2)"
   ]
  },
  {
   "cell_type": "code",
   "execution_count": 6,
   "metadata": {},
   "outputs": [
    {
     "name": "stdout",
     "output_type": "stream",
     "text": [
      "toukyo\n",
      "('souther', ['land scape'])\n"
     ]
    }
   ],
   "source": [
    "# list inside tuples  \n",
    "favoriets = ( 'souther',['toukyo','land scape']) # we can't make any changes in side tuple\n",
    "print(favoriets[1].pop(0))\n",
    "#favoriets[1].append('we made it ')\n",
    "print(favoriets) \n",
    "#print(favoriets[1].pop())"
   ]
  },
  {
   "cell_type": "code",
   "execution_count": 7,
   "metadata": {},
   "outputs": [
    {
     "name": "stdout",
     "output_type": "stream",
     "text": [
      "1\n"
     ]
    }
   ],
   "source": [
    "# min max sum \n",
    "mixed = (1,2,3,4,5,6,7)\n",
    "print(min(mixed))"
   ]
  },
  {
   "cell_type": "code",
   "execution_count": 8,
   "metadata": {},
   "outputs": [
    {
     "name": "stdout",
     "output_type": "stream",
     "text": [
      "7\n"
     ]
    }
   ],
   "source": [
    "print(max(mixed))"
   ]
  },
  {
   "cell_type": "code",
   "execution_count": 9,
   "metadata": {},
   "outputs": [
    {
     "name": "stdout",
     "output_type": "stream",
     "text": [
      "5\n",
      "6\n"
     ]
    }
   ],
   "source": [
    "# function returning two values \n",
    "def func(int1,int2):\n",
    "    add = int1 + int2\n",
    "    multiply = int1*int2\n",
    "    return add, multiply  \n",
    "add, multiply = func (2,3)\n",
    "print(add)\n",
    "print(multiply)"
   ]
  },
  {
   "cell_type": "code",
   "execution_count": 10,
   "metadata": {},
   "outputs": [
    {
     "name": "stdout",
     "output_type": "stream",
     "text": [
      "(1, 2, 3, 4, 5, 6, 7, 8, 9, 10)\n"
     ]
    },
    {
     "data": {
      "text/plain": [
       "tuple"
      ]
     },
     "execution_count": 10,
     "metadata": {},
     "output_type": "execute_result"
    }
   ],
   "source": [
    "#some thing more about tuple, list,string \n",
    "nums = tuple (range (1,11))\n",
    "print(nums)\n",
    "type(nums)"
   ]
  },
  {
   "cell_type": "code",
   "execution_count": 11,
   "metadata": {},
   "outputs": [
    {
     "name": "stdout",
     "output_type": "stream",
     "text": [
      "(1, 2, 3, 4, 5, 6, 7, 8, 9, 10)\n"
     ]
    },
    {
     "data": {
      "text/plain": [
       "str"
      ]
     },
     "execution_count": 11,
     "metadata": {},
     "output_type": "execute_result"
    }
   ],
   "source": [
    "nums =  str((1,2,3,4,5,6,7,8,9,10))\n",
    "print(nums)\n",
    "type(nums)"
   ]
  },
  {
   "cell_type": "code",
   "execution_count": null,
   "metadata": {},
   "outputs": [],
   "source": []
  }
 ],
 "metadata": {
  "kernelspec": {
   "display_name": "Python 3 (ipykernel)",
   "language": "python",
   "name": "python3"
  },
  "language_info": {
   "codemirror_mode": {
    "name": "ipython",
    "version": 3
   },
   "file_extension": ".py",
   "mimetype": "text/x-python",
   "name": "python",
   "nbconvert_exporter": "python",
   "pygments_lexer": "ipython3",
   "version": "3.9.12"
  }
 },
 "nbformat": 4,
 "nbformat_minor": 4
}
