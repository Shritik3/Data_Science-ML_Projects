{
 "cells": [
  {
   "cell_type": "code",
   "execution_count": 1,
   "metadata": {},
   "outputs": [],
   "source": [
    "import numpy as np"
   ]
  },
  {
   "cell_type": "code",
   "execution_count": 2,
   "metadata": {},
   "outputs": [
    {
     "data": {
      "text/plain": [
       "array([[[ 3,  3,  7],\n",
       "        [ 2,  4, 10],\n",
       "        [ 7,  2,  1]],\n",
       "\n",
       "       [[ 2, 10,  1],\n",
       "        [ 1, 10,  4],\n",
       "        [ 5,  1,  1]],\n",
       "\n",
       "       [[ 5,  2,  8],\n",
       "        [ 4,  3,  5],\n",
       "        [ 8,  3,  5]],\n",
       "\n",
       "       [[ 9,  1,  8],\n",
       "        [10,  4,  5],\n",
       "        [ 7,  2,  6]],\n",
       "\n",
       "       [[ 7,  3,  2],\n",
       "        [ 9,  4,  6],\n",
       "        [ 1,  3,  7]],\n",
       "\n",
       "       [[ 3,  5,  5],\n",
       "        [ 7,  4,  1],\n",
       "        [ 7,  5,  8]],\n",
       "\n",
       "       [[ 7,  8,  2],\n",
       "        [ 6,  8, 10],\n",
       "        [ 3,  5,  9]],\n",
       "\n",
       "       [[ 2,  3,  2],\n",
       "        [ 2,  4,  6],\n",
       "        [10,  1,  9]],\n",
       "\n",
       "       [[ 2,  7,  4],\n",
       "        [ 4,  6, 10],\n",
       "        [ 8, 10,  3]]])"
      ]
     },
     "execution_count": 2,
     "metadata": {},
     "output_type": "execute_result"
    }
   ],
   "source": [
    "np.random.seed(123)\n",
    "matrix= np.random.randint(1,11,81).reshape(9,3,3)\n",
    "matrix"
   ]
  },
  {
   "cell_type": "code",
   "execution_count": 3,
   "metadata": {},
   "outputs": [
    {
     "data": {
      "text/plain": [
       "407"
      ]
     },
     "execution_count": 3,
     "metadata": {},
     "output_type": "execute_result"
    }
   ],
   "source": [
    "np.sum(matrix)"
   ]
  },
  {
   "cell_type": "code",
   "execution_count": 4,
   "metadata": {},
   "outputs": [
    {
     "data": {
      "text/plain": [
       "<function ndarray.sum>"
      ]
     },
     "execution_count": 4,
     "metadata": {},
     "output_type": "execute_result"
    }
   ],
   "source": [
    "matrix.sum"
   ]
  },
  {
   "cell_type": "code",
   "execution_count": 5,
   "metadata": {},
   "outputs": [
    {
     "data": {
      "text/plain": [
       "1"
      ]
     },
     "execution_count": 5,
     "metadata": {},
     "output_type": "execute_result"
    }
   ],
   "source": [
    "np.min(matrix)"
   ]
  },
  {
   "cell_type": "code",
   "execution_count": 6,
   "metadata": {},
   "outputs": [
    {
     "data": {
      "text/plain": [
       "10"
      ]
     },
     "execution_count": 6,
     "metadata": {},
     "output_type": "execute_result"
    }
   ],
   "source": [
    "np.max(matrix)"
   ]
  },
  {
   "cell_type": "code",
   "execution_count": 7,
   "metadata": {},
   "outputs": [
    {
     "data": {
      "text/plain": [
       "array([[4.        , 3.        , 6.        ],\n",
       "       [2.66666667, 7.        , 2.        ],\n",
       "       [5.66666667, 2.66666667, 6.        ],\n",
       "       [8.66666667, 2.33333333, 6.33333333],\n",
       "       [5.66666667, 3.33333333, 5.        ],\n",
       "       [5.66666667, 4.66666667, 4.66666667],\n",
       "       [5.33333333, 7.        , 7.        ],\n",
       "       [4.66666667, 2.66666667, 5.66666667],\n",
       "       [4.66666667, 7.66666667, 5.66666667]])"
      ]
     },
     "execution_count": 7,
     "metadata": {},
     "output_type": "execute_result"
    }
   ],
   "source": [
    "np.mean(matrix,axis=1)"
   ]
  },
  {
   "cell_type": "code",
   "execution_count": 8,
   "metadata": {},
   "outputs": [
    {
     "data": {
      "text/plain": [
       "array([[2, 2, 1],\n",
       "       [1, 1, 1],\n",
       "       [4, 2, 5],\n",
       "       [7, 1, 5],\n",
       "       [1, 3, 2],\n",
       "       [3, 4, 1],\n",
       "       [3, 5, 2],\n",
       "       [2, 1, 2],\n",
       "       [2, 6, 3]])"
      ]
     },
     "execution_count": 8,
     "metadata": {},
     "output_type": "execute_result"
    }
   ],
   "source": [
    "np.min(matrix,axis=1)"
   ]
  },
  {
   "cell_type": "code",
   "execution_count": 9,
   "metadata": {},
   "outputs": [
    {
     "data": {
      "text/plain": [
       "array([[ 7,  4, 10],\n",
       "       [ 5, 10,  4],\n",
       "       [ 8,  3,  8],\n",
       "       [10,  4,  8],\n",
       "       [ 9,  4,  7],\n",
       "       [ 7,  5,  8],\n",
       "       [ 7,  8, 10],\n",
       "       [10,  4,  9],\n",
       "       [ 8, 10, 10]])"
      ]
     },
     "execution_count": 9,
     "metadata": {},
     "output_type": "execute_result"
    }
   ],
   "source": [
    "np.max(matrix,axis=1)"
   ]
  },
  {
   "cell_type": "code",
   "execution_count": 10,
   "metadata": {},
   "outputs": [
    {
     "data": {
      "text/plain": [
       "array([[ 9, 10,  8],\n",
       "       [10, 10, 10],\n",
       "       [10, 10,  9]])"
      ]
     },
     "execution_count": 10,
     "metadata": {},
     "output_type": "execute_result"
    }
   ],
   "source": [
    "np.max(matrix,axis=0)"
   ]
  },
  {
   "cell_type": "code",
   "execution_count": 11,
   "metadata": {},
   "outputs": [
    {
     "data": {
      "text/plain": [
       "array([[12,  9, 18],\n",
       "       [ 8, 21,  6],\n",
       "       [17,  8, 18],\n",
       "       [26,  7, 19],\n",
       "       [17, 10, 15],\n",
       "       [17, 14, 14],\n",
       "       [16, 21, 21],\n",
       "       [14,  8, 17],\n",
       "       [14, 23, 17]])"
      ]
     },
     "execution_count": 11,
     "metadata": {},
     "output_type": "execute_result"
    }
   ],
   "source": [
    "np.sum(matrix ,axis=1)"
   ]
  },
  {
   "cell_type": "markdown",
   "metadata": {},
   "source": [
    "# cumulative sum"
   ]
  },
  {
   "cell_type": "code",
   "execution_count": 12,
   "metadata": {},
   "outputs": [
    {
     "data": {
      "text/plain": [
       "array([  3,   6,  13,  15,  19,  29,  36,  38,  39,  41,  51,  52,  53,\n",
       "        63,  67,  72,  73,  74,  79,  81,  89,  93,  96, 101, 109, 112,\n",
       "       117, 126, 127, 135, 145, 149, 154, 161, 163, 169, 176, 179, 181,\n",
       "       190, 194, 200, 201, 204, 211, 214, 219, 224, 231, 235, 236, 243,\n",
       "       248, 256, 263, 271, 273, 279, 287, 297, 300, 305, 314, 316, 319,\n",
       "       321, 323, 327, 333, 343, 344, 353, 355, 362, 366, 370, 376, 386,\n",
       "       394, 404, 407], dtype=int32)"
      ]
     },
     "execution_count": 12,
     "metadata": {},
     "output_type": "execute_result"
    }
   ],
   "source": [
    "np.cumsum(matrix)"
   ]
  },
  {
   "cell_type": "code",
   "execution_count": 13,
   "metadata": {},
   "outputs": [
    {
     "data": {
      "text/plain": [
       "array([[[ 3,  3,  7],\n",
       "        [ 2,  4, 10],\n",
       "        [ 7,  2,  1]],\n",
       "\n",
       "       [[ 5, 13,  8],\n",
       "        [ 3, 14, 14],\n",
       "        [12,  3,  2]],\n",
       "\n",
       "       [[10, 15, 16],\n",
       "        [ 7, 17, 19],\n",
       "        [20,  6,  7]],\n",
       "\n",
       "       [[19, 16, 24],\n",
       "        [17, 21, 24],\n",
       "        [27,  8, 13]],\n",
       "\n",
       "       [[26, 19, 26],\n",
       "        [26, 25, 30],\n",
       "        [28, 11, 20]],\n",
       "\n",
       "       [[29, 24, 31],\n",
       "        [33, 29, 31],\n",
       "        [35, 16, 28]],\n",
       "\n",
       "       [[36, 32, 33],\n",
       "        [39, 37, 41],\n",
       "        [38, 21, 37]],\n",
       "\n",
       "       [[38, 35, 35],\n",
       "        [41, 41, 47],\n",
       "        [48, 22, 46]],\n",
       "\n",
       "       [[40, 42, 39],\n",
       "        [45, 47, 57],\n",
       "        [56, 32, 49]]], dtype=int32)"
      ]
     },
     "execution_count": 13,
     "metadata": {},
     "output_type": "execute_result"
    }
   ],
   "source": [
    "np.cumsum(matrix,axis=0)"
   ]
  },
  {
   "cell_type": "code",
   "execution_count": 14,
   "metadata": {},
   "outputs": [
    {
     "data": {
      "text/plain": [
       "array([[ 42,  24,  70],\n",
       "       [ 10, 100,   4],\n",
       "       [160,  18, 200],\n",
       "       [630,   8, 240],\n",
       "       [ 63,  36,  84],\n",
       "       [147, 100,  40],\n",
       "       [126, 320, 180],\n",
       "       [ 40,  12, 108],\n",
       "       [ 64, 420, 120]])"
      ]
     },
     "execution_count": 14,
     "metadata": {},
     "output_type": "execute_result"
    }
   ],
   "source": [
    "np.prod(matrix,axis=1)"
   ]
  },
  {
   "cell_type": "code",
   "execution_count": null,
   "metadata": {},
   "outputs": [],
   "source": []
  }
 ],
 "metadata": {
  "kernelspec": {
   "display_name": "Python 3 (ipykernel)",
   "language": "python",
   "name": "python3"
  },
  "language_info": {
   "codemirror_mode": {
    "name": "ipython",
    "version": 3
   },
   "file_extension": ".py",
   "mimetype": "text/x-python",
   "name": "python",
   "nbconvert_exporter": "python",
   "pygments_lexer": "ipython3",
   "version": "3.9.12"
  }
 },
 "nbformat": 4,
 "nbformat_minor": 4
}
