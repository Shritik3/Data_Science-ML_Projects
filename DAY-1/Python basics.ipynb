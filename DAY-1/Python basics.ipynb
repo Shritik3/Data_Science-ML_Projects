{
 "cells": [
  {
   "cell_type": "code",
   "execution_count": 1,
   "metadata": {},
   "outputs": [
    {
     "name": "stdout",
     "output_type": "stream",
     "text": [
      "line-A\n",
      "line-B\n",
      "line-C\n"
     ]
    }
   ],
   "source": [
    "# this is comment \n",
    "print(\"line-A\\nline-B\\nline-C\") # \\n  is for new line "
   ]
  },
  {
   "cell_type": "code",
   "execution_count": null,
   "metadata": {},
   "outputs": [],
   "source": []
  },
  {
   "cell_type": "markdown",
   "metadata": {},
   "source": [
    "# Python"
   ]
  },
  {
   "cell_type": "markdown",
   "metadata": {},
   "source": [
    "## computer"
   ]
  },
  {
   "cell_type": "code",
   "execution_count": 2,
   "metadata": {},
   "outputs": [
    {
     "name": "stdout",
     "output_type": "stream",
     "text": [
      "name\tHarshit\n"
     ]
    }
   ],
   "source": [
    "#\\t is for tab\n",
    "print('name\\tHarshit')"
   ]
  },
  {
   "cell_type": "code",
   "execution_count": 3,
   "metadata": {},
   "outputs": [
    {
     "name": "stdout",
     "output_type": "stream",
     "text": [
      "this is double backslash \\\\\n"
     ]
    }
   ],
   "source": [
    "# \\\\ is for baclslash\n",
    "print('this is double backslash \\\\\\\\')"
   ]
  },
  {
   "cell_type": "code",
   "execution_count": 4,
   "metadata": {},
   "outputs": [
    {
     "name": "stdout",
     "output_type": "stream",
     "text": [
      "hell\blo\n"
     ]
    }
   ],
   "source": [
    "print('hell\\blo') # back space "
   ]
  },
  {
   "cell_type": "code",
   "execution_count": null,
   "metadata": {},
   "outputs": [],
   "source": [
    "# to comments we write ctr + /"
   ]
  },
  {
   "cell_type": "code",
   "execution_count": null,
   "metadata": {},
   "outputs": [],
   "source": [
    "'hellow world'\n",
    "print('hellow world')"
   ]
  },
  {
   "cell_type": "code",
   "execution_count": 5,
   "metadata": {},
   "outputs": [
    {
     "name": "stdout",
     "output_type": "stream",
     "text": [
      "hellow 'world' world\n",
      "hellow \"world\" world\n"
     ]
    }
   ],
   "source": [
    "# you can use double cotes inside single cotes and single cotes inside double cotes\n",
    "print(\"hellow 'world' world\")\n",
    "print('hellow \"world\" world')\n"
   ]
  },
  {
   "cell_type": "code",
   "execution_count": 6,
   "metadata": {},
   "outputs": [
    {
     "name": "stdout",
     "output_type": "stream",
     "text": [
      "hellow 'world' world\n"
     ]
    }
   ],
   "source": [
    "print(\"hellow 'world' world\")"
   ]
  },
  {
   "cell_type": "code",
   "execution_count": 7,
   "metadata": {},
   "outputs": [
    {
     "name": "stdout",
     "output_type": "stream",
     "text": [
      "I'am Abhinav\n"
     ]
    }
   ],
   "source": [
    "print(\"I'am Abhinav\")"
   ]
  },
  {
   "cell_type": "code",
   "execution_count": null,
   "metadata": {},
   "outputs": [],
   "source": [
    "# we can't use single cotes inside single cotes and double cotes inside double cotes"
   ]
  },
  {
   "cell_type": "code",
   "execution_count": 8,
   "metadata": {},
   "outputs": [
    {
     "name": "stdout",
     "output_type": "stream",
     "text": [
      "hellow\"world\"world\n",
      "I'm abhinav\n"
     ]
    }
   ],
   "source": [
    "print(\"hellow\\\"world\\\"world\") # we should not write ''0r \"\" without escape siquence\n",
    "print('I\\'m abhinav')"
   ]
  },
  {
   "cell_type": "code",
   "execution_count": 9,
   "metadata": {},
   "outputs": [
    {
     "name": "stdout",
     "output_type": "stream",
     "text": [
      "line A\n",
      "line B\n",
      "line A\n",
      "line B\n"
     ]
    }
   ],
   "source": [
    "print('line A')\n",
    "print('line B')\n",
    "\n",
    "print('line A\\nline B')"
   ]
  },
  {
   "cell_type": "code",
   "execution_count": 10,
   "metadata": {},
   "outputs": [
    {
     "name": "stdout",
     "output_type": "stream",
     "text": [
      "this is \\\\ double backslash\n"
     ]
    }
   ],
   "source": [
    "print('this is \\\\\\\\ double backslash')"
   ]
  },
  {
   "cell_type": "code",
   "execution_count": 11,
   "metadata": {},
   "outputs": [
    {
     "name": "stdout",
     "output_type": "stream",
     "text": [
      "these are /\\/\\/\\/\\ mountains\n"
     ]
    }
   ],
   "source": [
    "print('these are /\\\\/\\\\/\\\\/\\\\ mountains')"
   ]
  },
  {
   "cell_type": "code",
   "execution_count": null,
   "metadata": {},
   "outputs": [],
   "source": []
  },
  {
   "cell_type": "code",
   "execution_count": null,
   "metadata": {},
   "outputs": [],
   "source": []
  }
 ],
 "metadata": {
  "kernelspec": {
   "display_name": "Python 3 (ipykernel)",
   "language": "python",
   "name": "python3"
  },
  "language_info": {
   "codemirror_mode": {
    "name": "ipython",
    "version": 3
   },
   "file_extension": ".py",
   "mimetype": "text/x-python",
   "name": "python",
   "nbconvert_exporter": "python",
   "pygments_lexer": "ipython3",
   "version": "3.7.13"
  }
 },
 "nbformat": 4,
 "nbformat_minor": 4
}
